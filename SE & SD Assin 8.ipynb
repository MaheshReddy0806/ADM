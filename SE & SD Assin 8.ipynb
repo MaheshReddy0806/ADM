{
  "nbformat": 4,
  "nbformat_minor": 0,
  "metadata": {
    "colab": {
      "provenance": [],
      "include_colab_link": true
    },
    "kernelspec": {
      "name": "python3",
      "display_name": "Python 3"
    },
    "language_info": {
      "name": "python"
    }
  },
  "cells": [
    {
      "cell_type": "markdown",
      "metadata": {
        "id": "view-in-github",
        "colab_type": "text"
      },
      "source": [
        "<a href=\"https://colab.research.google.com/github/MaheshReddy0806/ADM/blob/main/SE%20%26%20SD%20Assin%208.ipynb\" target=\"_parent\"><img src=\"https://colab.research.google.com/assets/colab-badge.svg\" alt=\"Open In Colab\"/></a>"
      ]
    },
    {
      "cell_type": "code",
      "execution_count": null,
      "metadata": {
        "id": "cBMkTWPWco2n"
      },
      "outputs": [],
      "source": [
        "# product.py\n",
        "class Product:\n",
        "    def __init__(self, product_id: int, name: str, price: float):\n",
        "        self.product_id = product_id\n",
        "        self.name = name\n",
        "        self.price = price\n"
      ]
    },
    {
      "cell_type": "code",
      "source": [
        "# cart_item.py\n",
        "class CartItem:\n",
        "    def __init__(self, product: Product, quantity: int = 1):\n",
        "        self.product = product\n",
        "        self.quantity = quantity\n",
        "\n",
        "    def total_price(self):\n",
        "        return self.product.price * self.quantity\n"
      ],
      "metadata": {
        "id": "fjFVGBaQdEfv"
      },
      "execution_count": null,
      "outputs": []
    },
    {
      "cell_type": "code",
      "source": [
        "# shopping_cart.py\n",
        "class ShoppingCart:\n",
        "    def __init__(self):\n",
        "        self.items = []\n",
        "        self.discount = 0.0  # percentage discount e.g., 10 for 10%\n",
        "\n",
        "    def add_product(self, product: Product, quantity: int = 1):\n",
        "        for item in self.items:\n",
        "            if item.product.product_id == product.product_id:\n",
        "                item.quantity += quantity\n",
        "                return\n",
        "        self.items.append(CartItem(product, quantity))\n",
        "\n",
        "    def remove_product(self, product_id: int):\n",
        "        self.items = [item for item in self.items if item.product.product_id != product_id]\n",
        "\n",
        "    def apply_discount(self, percentage: float):\n",
        "        self.discount = percentage\n",
        "\n",
        "    def calculate_total(self):\n",
        "        total = sum(item.total_price() for item in self.items)\n",
        "        if self.discount:\n",
        "            total -= (total * (self.discount / 100))\n",
        "        return round(total, 2)\n",
        "\n",
        "    def is_empty(self):\n",
        "        return len(self.items) == 0\n"
      ],
      "metadata": {
        "id": "mFl8Lu3PdJk_"
      },
      "execution_count": null,
      "outputs": []
    },
    {
      "cell_type": "code",
      "source": [
        "# 🛒 E-commerce Cart Classes (No separate files needed)\n",
        "\n",
        "class Product:\n",
        "    def __init__(self, product_id: int, name: str, price: float):\n",
        "        self.product_id = product_id\n",
        "        self.name = name\n",
        "        self.price = price\n",
        "\n",
        "class CartItem:\n",
        "    def __init__(self, product: Product, quantity: int = 1):\n",
        "        self.product = product\n",
        "        self.quantity = quantity\n",
        "\n",
        "    def total_price(self):\n",
        "        return self.product.price * self.quantity\n",
        "\n",
        "class ShoppingCart:\n",
        "    def __init__(self):\n",
        "        self.items = []\n",
        "        self.discount = 0.0  # percent discount, e.g. 10 for 10%\n",
        "\n",
        "    def add_product(self, product: Product, quantity: int = 1):\n",
        "        for item in self.items:\n",
        "            if item.product.product_id == product.product_id:\n",
        "                item.quantity += quantity\n",
        "                return\n",
        "        self.items.append(CartItem(product, quantity))\n",
        "\n",
        "    def remove_product(self, product_id: int):\n",
        "        self.items = [item for item in self.items if item.product.product_id != product_id]\n",
        "\n",
        "    def apply_discount(self, percentage: float):\n",
        "        self.discount = percentage\n",
        "\n",
        "    def calculate_total(self):\n",
        "        total = sum(item.total_price() for item in self.items)\n",
        "        if self.discount:\n",
        "            total -= (total * (self.discount / 100))\n",
        "        return round(total, 2)\n",
        "\n",
        "    def is_empty(self):\n",
        "        return len(self.items) == 0\n"
      ],
      "metadata": {
        "id": "K3YBOMICfds2"
      },
      "execution_count": null,
      "outputs": []
    },
    {
      "cell_type": "code",
      "source": [
        "# ✅ Testing the ShoppingCart in Colab\n",
        "\n",
        "def test_shopping_cart():\n",
        "    # Create products\n",
        "    laptop = Product(1, \"Laptop\", 1000.0)\n",
        "    mouse = Product(2, \"Mouse\", 50.0)\n",
        "\n",
        "    # Initialize cart\n",
        "    cart = ShoppingCart()\n",
        "\n",
        "    # Test: Add products\n",
        "    cart.add_product(laptop, 1)\n",
        "    cart.add_product(mouse, 2)\n",
        "    assert len(cart.items) == 2, \"Items not added correctly\"\n",
        "    assert cart.calculate_total() == 1100.0, \"Total calculation failed\"\n",
        "\n",
        "    # Test: Remove product\n",
        "    cart.remove_product(1)  # remove laptop\n",
        "    assert len(cart.items) == 1, \"Item not removed correctly\"\n",
        "    assert cart.items[0].product.name == \"Mouse\", \"Wrong item in cart after removal\"\n",
        "\n",
        "    # Test: Apply discount\n",
        "    cart.apply_discount(10)\n",
        "    assert cart.calculate_total() == 90.0, \"Discount not applied correctly\"\n",
        "\n",
        "    # Test: Empty cart\n",
        "    cart.remove_product(2)  # remove mouse\n",
        "    assert cart.is_empty() is True, \"Cart should be empty\"\n",
        "    assert cart.calculate_total() == 0.0, \"Total for empty cart should be 0\"\n",
        "\n",
        "    print(\"✅ All ShoppingCart tests passed!\")\n",
        "\n",
        "# Run the test\n",
        "test_shopping_cart()\n"
      ],
      "metadata": {
        "colab": {
          "base_uri": "https://localhost:8080/"
        },
        "id": "ynrOaHcafgsn",
        "outputId": "a47db3b1-a0e9-4fa4-bc7b-46935f44f8c8"
      },
      "execution_count": null,
      "outputs": [
        {
          "output_type": "stream",
          "name": "stdout",
          "text": [
            "✅ All ShoppingCart tests passed!\n"
          ]
        }
      ]
    }
  ]
}